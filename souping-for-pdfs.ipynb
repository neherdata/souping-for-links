{
 "cells": [
  {
   "cell_type": "code",
   "execution_count": 1,
   "metadata": {},
   "outputs": [],
   "source": [
    "import requests\n",
    "from bs4 import BeautifulSoup"
   ]
  },
  {
   "cell_type": "code",
   "execution_count": 6,
   "metadata": {},
   "outputs": [
    {
     "data": {
      "text/plain": [
       "200"
      ]
     },
     "execution_count": 6,
     "metadata": {},
     "output_type": "execute_result"
    }
   ],
   "source": [
    "url = 'https://sciences.ucf.edu/biology/PEBL/publications-and-reprints-2/'\n",
    "r = requests.get(url)\n",
    "r.status_code"
   ]
  },
  {
   "cell_type": "code",
   "execution_count": 12,
   "metadata": {},
   "outputs": [],
   "source": [
    "soup = BeautifulSoup(r.text)\n",
    "\n",
    "pdfLinks = []\n",
    "\n",
    "for link in soup.find_all(\"a\"):\n",
    "    current_link = link.get('href')\n",
    "    if current_link.endswith('pdf'):\n",
    "        pdfLinks.append(current_link)"
   ]
  },
  {
   "cell_type": "code",
   "execution_count": 13,
   "metadata": {},
   "outputs": [
    {
     "data": {
      "text/plain": [
       "['https://sciences.ucf.edu/biology/PEBL/wp-content/uploads/sites/18/2012/10/2014-Litz-et-al-DAO.pdf',\n",
       " 'https://sciences.ucf.edu/biology/PEBL/wp-content/uploads/sites/18/2014/04/Browning-et-al.-2014-JEMBE.pdf',\n",
       " 'https://sciences.ucf.edu/biology/PEBL/wp-content/uploads/sites/18/2014/03/2014-Browning-et-al-Marine-Biology.pdf',\n",
       " 'https://sciences.ucf.edu/biology/PEBL/wp-content/uploads/sites/18/2014/01/Hoopes-et-al.-2014-PLOS-ONE.pdf',\n",
       " 'https://sciences.ucf.edu/biology/PEBL/wp-content/uploads/sites/18/2013/12/2013-Worthy-et-al-MMS.pdf',\n",
       " 'https://sciences.ucf.edu/biology/PEBL/wp-content/uploads/sites/18/2014/01/2014-Browning-et-al-JEB.pdf',\n",
       " 'https://sciences.ucf.edu/biology/PEBL/wp-content/uploads/sites/18/2014/02/2014-Worthy-and-Worthy-PBZ1.pdf',\n",
       " 'https://sciences.ucf.edu/biology/PEBL/wp-content/uploads/sites/18/2014/04/erratum-for-PBZ.pdf',\n",
       " 'https://sciences.ucf.edu/biology/PEBL/wp-content/uploads/2013/12/2013-Worthy-and-Worthy-PBZ.pdf',\n",
       " 'https://sciences.ucf.edu/biology/PEBL-reprints/2012%20Carmichael%20et%20al%20(PLoS%20ONE).pdf',\n",
       " 'https://sciences.ucf.edu/biology/PEBL-reprints/2011%20Witteveen%20et%20al%20(MMS).pdf',\n",
       " 'https://sciences.ucf.edu/biology/PEBL-reprints/2011%20Witteveen%20et%20al%20(Aquatic%20mammals).pdf',\n",
       " 'https://sciences.ucf.edu/biology/PEBL-reprints/HBOI%20final%20report%20part%201%20(fish).pdf',\n",
       " 'https://sciences.ucf.edu/biology/PEBL-reprints/HBOI dolphin report pt 2.pdf',\n",
       " 'https://sciences.ucf.edu/biology/PEBL-reprints/2010 Alves-Stanley Worthy Bonde (MEPS).pdf',\n",
       " 'https://sciences.ucf.edu/biology/PEBL-reprints/2009 Witteveen, Worthy, Roth (MEPS).pdf',\n",
       " 'https://sciences.ucf.edu/biology/PEBL-reprints/2009 Witteveen, Worthy, Roth (MEPS).pdf',\n",
       " 'https://sciences.ucf.edu/biology/PEBL-reprints/2009 Witteveen Worthy Wynne Roth.pdf',\n",
       " 'https://sciences.ucf.edu/biology/PEBL/Complete Final Report  2003-16.pdf',\n",
       " 'https://sciences.ucf.edu/biology/PEBL-reprints/2006 Reich and Worthy (MEPS).pdf',\n",
       " 'https://sciences.ucf.edu/biology/PEBL-reprints/2008 Worthy et al (HBOI report).pdf',\n",
       " 'https://sciences.ucf.edu/biology/PEBL-reprints/2006 Smith and Worthy (Comp Biochem Physiol).pdf',\n",
       " 'https://sciences.ucf.edu/biology/PEBL-reprints/2006 McFadden, Worthy and Lacher (Aquatic Mammals).pdf',\n",
       " 'https://sciences.ucf.edu/biology/PEBL-reprints/2006 Ortiz and Worthy (Aquatic Mammals).pdf',\n",
       " 'https://sciences.ucf.edu/biology/PEBL-reprints/2006 Turner et al (Aquatic Mammals).pdf',\n",
       " 'https://sciences.ucf.edu/biology/PEBL-reprints/2005 Fertl et al (Gulf and Caribbean Research).pdf',\n",
       " 'https://sciences.ucf.edu/biology/PEBL-reprints/2004 Samuel and Worthy (Canadian Journal of Zoology).pdf',\n",
       " 'https://sciences.ucf.edu/biology/PEBL-reprints/2004 Ortiz and Worthy (Marine Mammal Science).pdf',\n",
       " 'https://sciences.ucf.edu/biology/PEBL-reprints/2003 Turner and Worthy (J Mammal).pdf',\n",
       " 'https://sciences.ucf.edu/biology/PEBL-reprints/2003 Courbis and Worthy (Aq Mammals).pdf',\n",
       " 'https://sciences.ucf.edu/biology/PEBL-reprints/2003 Stein et al (Toxicology of Marine Mammals).pdf',\n",
       " 'https://sciences.ucf.edu/biology/PEBL-reprints/2002 Kurle and Worthy (MEPS).pdf',\n",
       " 'https://sciences.ucf.edu/biology/PEBL-reprints/2002 Clark, Worthy, Cowan, Haubold (Gulf of Mex Sci).pdf',\n",
       " 'https://sciences.ucf.edu/biology/PEBL-reprints/2002 Williams and Worthy (book chapter).pdf',\n",
       " 'https://sciences.ucf.edu/biology/PEBL-reprints/2001 Worthy (CRC Press).pdf',\n",
       " 'https://sciences.ucf.edu/biology/PEBL-reprints/2001 Kurle and Worthy (Oecologia).pdf',\n",
       " 'https://sciences.ucf.edu/biology/PEBL-reprints/2000 Worthy, Miculka, Wright (Warm Water Workshop).pdf',\n",
       " 'https://sciences.ucf.edu/biology/PEBL-reprints/2000 Ortiz, MacKenzie, Worthy (J Exp Biol).pdf',\n",
       " 'https://sciences.ucf.edu/biology/PEBL-reprints/2000 Wardle, Haney, Worthy (Crustaceana).pdf',\n",
       " 'https://sciences.ucf.edu/biology/PEBL-reprints/2000 Ortiz, Worthy (Comp Biochem Physiol).pdf',\n",
       " 'https://sciences.ucf.edu/biology/PEBL-reprints/1999 Wilkinson and Worthy (Smithsonian book).pdf',\n",
       " 'https://sciences.ucf.edu/biology/PEBL-reprints/1999 Meador, Ernest, Hohn, Tilbury, Gorzelany, Worthy, Stein.pdf',\n",
       " 'https://sciences.ucf.edu/biology/PEBL-reprints/1999 Ortiz, Worthy, Byers (J Exp Biol).pdf',\n",
       " 'https://sciences.ucf.edu/biology/PEBL-reprints/1998 Worthy (NOAA Tech Rep).pdf',\n",
       " 'https://sciences.ucf.edu/biology/PEBL-reprints/1998 Ortiz, Worthy, MacKenzie (Phys Zool).pdf',\n",
       " 'https://sciences.ucf.edu/biology/PEBL-reprints/1997 Fertl, Schiro, Collier, Worthy (Gulf of Mex Sci).pdf',\n",
       " 'https://sciences.ucf.edu/biology/PEBL-reprints/1996 Davis, Worthy, Wursig, Lynn, Townsend (Mar Mammal Sci).pdf',\n",
       " 'https://sciences.ucf.edu/biology/PEBL-reprints/1996 Lipscomb et al (J Vet Diag Med).pdf',\n",
       " 'https://sciences.ucf.edu/biology/PEBL-reprints/1994 Gales, Renouf, Worthy (Mar Mammal Sci).pdf',\n",
       " 'https://sciences.ucf.edu/biology/PEBL-reprints/1993 Worthy Casper Rhinehart Moser (Mar Mammal Sci).pdf',\n",
       " 'https://sciences.ucf.edu/biology/PEBL-reprints/1992 Worthy, Morris, Costa, LeBoeuf (J Zool.).pdf',\n",
       " 'https://sciences.ucf.edu/biology/PEBL-reprints/1991 Worthy (Comp Biochem Physiol).pdf',\n",
       " 'https://sciences.ucf.edu/biology/PEBL-reprints/1990 Innes, Worthy, Lavigne, Ronald (Can J Zool).pdf',\n",
       " 'https://sciences.ucf.edu/biology/PEBL-reprints/1990 Lavigne Innes Worthy Edwards (J theor. biol).pdf',\n",
       " 'https://sciences.ucf.edu/biology/PEBL-reprints/1990 Fadely, Worthy, Costa  (J Wildl Manage).pdf',\n",
       " 'https://sciences.ucf.edu/biology/PEBL-reprints/1990 Worthy and Edwards (Phys Zool).pdf',\n",
       " 'https://sciences.ucf.edu/biology/PEBL-reprints/1988 Worthy Rose and Stormshak (book chapter).pdf',\n",
       " 'https://sciences.ucf.edu/biology/PEBL-reprints/1987 Worthy (Marine Mammal Energetics-simulation chapter).pdf',\n",
       " 'https://sciences.ucf.edu/biology/PEBL-reprints/1987 Worthy et al (Marine Mammal Energetics porpoise energetics).pdf',\n",
       " 'https://sciences.ucf.edu/biology/PEBL-reprints/1987 Worthy (Can J Zool).pdf',\n",
       " 'https://sciences.ucf.edu/biology/PEBL-reprints/1987%20Worthy%20and%20Lavigne%20(Phys%20Zool).pdf',\n",
       " 'https://sciences.ucf.edu/biology/PEBL-reprints/1987 Hicks and Worthy (J Wildl Dis).pdf',\n",
       " 'https://sciences.ucf.edu/biology/PEBL-reprints/1986 Lavigne Innes Worthy Kovacs (J theor. biol).pdf',\n",
       " 'https://sciences.ucf.edu/biology/PEBL-reprints/1986 Worthy and Hickie (Am Nat).pdf',\n",
       " 'https://sciences.ucf.edu/biology/PEBL-reprints/1986 Lavigne, Innes, Worthy, Kovacs, Schmitz, Hickie (Can J Zool).pdf',\n",
       " 'https://sciences.ucf.edu/biology/PEBL-reprints/1983 Worthy and Lavigne (Can J Zool).pdf',\n",
       " 'https://sciences.ucf.edu/biology/PEBL-reprints/1983 Worthy and Lavigne (J Mammal).pdf',\n",
       " 'https://sciences.ucf.edu/biology/PEBL-reprints/1982 Worthy and Lavigne (Can J Zool).pdf',\n",
       " 'https://sciences.ucf.edu/biology/PEBL-reprints/1981 Bailey et al (Comp Biochem Physiol).pdf']"
      ]
     },
     "execution_count": 13,
     "metadata": {},
     "output_type": "execute_result"
    }
   ],
   "source": [
    "pdfLinks"
   ]
  },
  {
   "cell_type": "code",
   "execution_count": null,
   "metadata": {},
   "outputs": [],
   "source": []
  }
 ],
 "metadata": {
  "kernelspec": {
   "display_name": ".venv",
   "language": "python",
   "name": "python3"
  },
  "language_info": {
   "codemirror_mode": {
    "name": "ipython",
    "version": 3
   },
   "file_extension": ".py",
   "mimetype": "text/x-python",
   "name": "python",
   "nbconvert_exporter": "python",
   "pygments_lexer": "ipython3",
   "version": "3.10.6"
  },
  "orig_nbformat": 4
 },
 "nbformat": 4,
 "nbformat_minor": 2
}
